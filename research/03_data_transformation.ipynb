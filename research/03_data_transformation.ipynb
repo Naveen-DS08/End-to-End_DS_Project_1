{
 "cells": [
  {
   "cell_type": "code",
   "execution_count": 1,
   "metadata": {},
   "outputs": [],
   "source": [
    "import os"
   ]
  },
  {
   "cell_type": "code",
   "execution_count": 2,
   "metadata": {},
   "outputs": [
    {
     "data": {
      "text/plain": [
       "'d:\\\\VS_code\\\\MLops\\\\11_End-to-End_Projects\\\\End-to-End_DS_Project_1\\\\research'"
      ]
     },
     "execution_count": 2,
     "metadata": {},
     "output_type": "execute_result"
    }
   ],
   "source": [
    "%pwd"
   ]
  },
  {
   "cell_type": "code",
   "execution_count": 3,
   "metadata": {},
   "outputs": [
    {
     "data": {
      "text/plain": [
       "'d:\\\\VS_code\\\\MLops\\\\11_End-to-End_Projects\\\\End-to-End_DS_Project_1'"
      ]
     },
     "execution_count": 3,
     "metadata": {},
     "output_type": "execute_result"
    }
   ],
   "source": [
    "os.chdir(\"../\")\n",
    "%pwd"
   ]
  },
  {
   "cell_type": "code",
   "execution_count": 4,
   "metadata": {},
   "outputs": [],
   "source": [
    "from dataclasses import dataclass \n",
    "from pathlib import Path \n",
    "\n",
    "@dataclass \n",
    "class DataTransformationConfig:\n",
    "    root_dir: Path \n",
    "    data_path: Path"
   ]
  },
  {
   "cell_type": "code",
   "execution_count": 5,
   "metadata": {},
   "outputs": [],
   "source": [
    "from src.dataScience.constants import *\n",
    "from src.dataScience.utils.common import read_yaml, create_directories\n",
    "\n",
    "class ConfigurationManager:\n",
    "    def __init__(\n",
    "            self, \n",
    "            config_file_path = CONFIG_FILE_PATH,\n",
    "            params_file_path = PARAMS_FILE_PATH, \n",
    "            schema_file_path = SCHEMA_FILE_PATH\n",
    "            ):\n",
    "        \n",
    "        self.config = read_yaml(config_file_path)\n",
    "        self.params = read_yaml(params_file_path)\n",
    "        self.schema = read_yaml(schema_file_path)\n",
    "\n",
    "        create_directories([self.config.artifacts_root])\n",
    "\n",
    "    def get_data_transformation_config(self) -> DataTransformationConfig:\n",
    "        config = self.config.data_transformation\n",
    "        create_directories([config.root_dir])\n",
    "        data_transfomation_config = DataTransformationConfig(\n",
    "            root_dir= config.root_dir,\n",
    "            data_path= config.data_path\n",
    "            )\n",
    "        return data_transfomation_config"
   ]
  },
  {
   "cell_type": "code",
   "execution_count": 6,
   "metadata": {},
   "outputs": [],
   "source": [
    "from src.dataScience import logger \n",
    "from sklearn.model_selection import train_test_split \n",
    "import pandas as pd "
   ]
  },
  {
   "cell_type": "code",
   "execution_count": 7,
   "metadata": {},
   "outputs": [],
   "source": [
    "class DataTransformation:\n",
    "    def __init__(self, config: DataTransformationConfig):\n",
    "        self.config = config \n",
    "\n",
    "    def train_test_splittig(self):\n",
    "        data = pd.read_csv(self.config.data_path)\n",
    "        train, test = train_test_split(data, test_size = 0.2, random_state=42 )\n",
    "\n",
    "        train.to_csv(os.path.join(self.config.root_dir, \"train.csv\"), index=False)\n",
    "        test.to_csv(os.path.join(self.config.root_dir, \"test.csv\"), index = False)\n",
    "\n",
    "        logger.info(\"Splitting the data into train and test sets\")\n",
    "        logger.info(train.shape)\n",
    "        logger.info(test.shape)"
   ]
  },
  {
   "cell_type": "code",
   "execution_count": 8,
   "metadata": {},
   "outputs": [
    {
     "name": "stdout",
     "output_type": "stream",
     "text": [
      "[2024-11-25 09:36:06,132: INFO: common: yaml file : config\\config.yaml loaded successfully]\n",
      "[2024-11-25 09:36:06,460: INFO: common: yaml file : params.yaml loaded successfully]\n",
      "[2024-11-25 09:36:06,578: INFO: common: yaml file : schema.yaml loaded successfully]\n",
      "[2024-11-25 09:36:06,618: INFO: common: Created directory at: artifacts]\n",
      "[2024-11-25 09:36:06,638: INFO: common: Created directory at: artifacts/data_transformation]\n",
      "[2024-11-25 09:36:07,255: INFO: 1618852844: Splitting the data into train and test sets]\n",
      "[2024-11-25 09:36:07,260: INFO: 1618852844: (1279, 12)]\n",
      "[2024-11-25 09:36:07,260: INFO: 1618852844: (320, 12)]\n"
     ]
    }
   ],
   "source": [
    "try:\n",
    "    config = ConfigurationManager()\n",
    "    data_trainformation_config = config.get_data_transformation_config()\n",
    "    data_transformation = DataTransformation(config=data_trainformation_config)\n",
    "    data_transformation.train_test_splittig()\n",
    "except Exception as e:\n",
    "    raise e"
   ]
  },
  {
   "cell_type": "code",
   "execution_count": null,
   "metadata": {},
   "outputs": [],
   "source": []
  }
 ],
 "metadata": {
  "kernelspec": {
   "display_name": "myenv",
   "language": "python",
   "name": "python3"
  },
  "language_info": {
   "codemirror_mode": {
    "name": "ipython",
    "version": 3
   },
   "file_extension": ".py",
   "mimetype": "text/x-python",
   "name": "python",
   "nbconvert_exporter": "python",
   "pygments_lexer": "ipython3",
   "version": "3.11.0"
  }
 },
 "nbformat": 4,
 "nbformat_minor": 2
}
